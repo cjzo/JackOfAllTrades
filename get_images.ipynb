{
 "cells": [
  {
   "cell_type": "code",
   "execution_count": 5,
   "metadata": {},
   "outputs": [],
   "source": [
    "from PIL import Image"
   ]
  },
  {
   "cell_type": "code",
   "execution_count": 3,
   "metadata": {},
   "outputs": [
    {
     "name": "stdout",
     "output_type": "stream",
     "text": [
      "Copied and labeled 29842 image-label pairs to 'chexpert_subset' and 'chexpert_subset.csv'\n"
     ]
    }
   ],
   "source": [
    "import pandas as pd\n",
    "import os\n",
    "import shutil\n",
    "import uuid\n",
    "import csv\n",
    "\n",
    "df = pd.read_csv(\"train.csv\")\n",
    "\n",
    "target_labels = {\n",
    "    \"No Finding\": 0,\n",
    "    \"Cardiomegaly\": 1,\n",
    "    \"Lung Lesion\": 2,         # equivalent to Nodule/Mass\n",
    "    \"Lung Opacity\": 3,\n",
    "    \"Pleural Effusion\": 4,\n",
    "    \"Consolidation\": 5\n",
    "}\n",
    "\n",
    "# Frontal PA images only\n",
    "df = df[(df[\"Frontal/Lateral\"] == \"Frontal\") & (df[\"AP/PA\"] == \"PA\")]\n",
    "\n",
    "# Keep only rows with at least one target label\n",
    "df_filtered = df[df[list(target_labels)].fillna(0).astype(float).any(axis=1)]\n",
    "\n",
    "output_dir = \"chexpert_subset\"\n",
    "os.makedirs(output_dir, exist_ok=True)\n",
    "label_file = \"chexpert_subset.csv\"\n",
    "\n",
    "# Create a CSV file to store the labels\n",
    "with open(label_file, mode='w', newline='') as f:\n",
    "    writer = csv.writer(f)\n",
    "    writer.writerow([\"image_id\", \"class_name\", \"class_id\", \"label\"])\n",
    "\n",
    "    count = 0\n",
    "\n",
    "    for _, row in df_filtered.iterrows():\n",
    "        original_path = row[\"Path\"].replace(\"CheXpert-v1.0-small/\", \"\")\n",
    "        if not os.path.exists(original_path):\n",
    "            continue\n",
    "\n",
    "        for class_name, class_id in target_labels.items():\n",
    "            if float(row[class_name]) == 1.0:\n",
    "                image_id = uuid.uuid4().hex\n",
    "                ext = os.path.splitext(original_path)[1]\n",
    "                new_filename = f\"{image_id}{ext}\"\n",
    "                new_path = os.path.join(output_dir, new_filename)\n",
    "                shutil.copy(original_path, new_path)\n",
    "\n",
    "                writer.writerow([image_id, class_name, class_id, class_id])\n",
    "                count += 1\n",
    "\n",
    "print(f\"Copied and labeled {count} image-label pairs to '{output_dir}' and '{label_file}'\")\n"
   ]
  },
  {
   "cell_type": "code",
   "execution_count": 6,
   "metadata": {},
   "outputs": [
    {
     "name": "stdout",
     "output_type": "stream",
     "text": [
      "Resized images saved to 'chexpert_resized'\n"
     ]
    }
   ],
   "source": [
    "\n",
    "image_folder = \"chexpert_subset\"\n",
    "processed_folder = \"chexpert_resized\"\n",
    "os.makedirs(processed_folder, exist_ok=True)\n",
    "\n",
    "\n",
    "for img_name in os.listdir(image_folder):\n",
    "    img_path = os.path.join(image_folder, img_name)\n",
    "    save_path = os.path.join(processed_folder, img_name)\n",
    "\n",
    "    try:\n",
    "        # grayscale\n",
    "        img = Image.open(img_path).convert(\"L\")\n",
    "        img = img.resize((224, 224))\n",
    "        img.save(save_path)  \n",
    "    except Exception as e:\n",
    "        print(f\"Error processing {img_name}: {e}\")\n",
    "\n",
    "print(f\"Resized images saved to '{processed_folder}'\")"
   ]
  },
  {
   "cell_type": "code",
   "execution_count": 7,
   "metadata": {},
   "outputs": [],
   "source": [
    "## Mistake - I forgot to do label + class_id, so I fixed it here\n",
    "\n",
    "# df = pd.read_csv(\"chexpert_subset.csv\")\n",
    "# df[\"label\"] = df[\"class_id\"]\n",
    "# df.to_csv(\"chexpert_subset.csv\", index=False)"
   ]
  }
 ],
 "metadata": {
  "kernelspec": {
   "display_name": "base",
   "language": "python",
   "name": "python3"
  },
  "language_info": {
   "codemirror_mode": {
    "name": "ipython",
    "version": 3
   },
   "file_extension": ".py",
   "mimetype": "text/x-python",
   "name": "python",
   "nbconvert_exporter": "python",
   "pygments_lexer": "ipython3",
   "version": "3.11.5"
  }
 },
 "nbformat": 4,
 "nbformat_minor": 2
}
